{
 "cells": [
  {
   "cell_type": "code",
   "execution_count": 2,
   "id": "296a8f2f",
   "metadata": {},
   "outputs": [
    {
     "name": "stdout",
     "output_type": "stream",
     "text": [
      "Collecting PyPDF2\n",
      "  Using cached pypdf2-3.0.1-py3-none-any.whl (232 kB)\n",
      "Requirement already satisfied: typing_extensions>=3.10.0.0 in c:\\users\\laboratorio\\anaconda3\\envs\\paulo\\lib\\site-packages (from PyPDF2) (4.4.0)\n",
      "Installing collected packages: PyPDF2\n",
      "Successfully installed PyPDF2-3.0.1\n",
      "Collecting easygui\n",
      "  Using cached easygui-0.98.3-py2.py3-none-any.whl (92 kB)\n",
      "Installing collected packages: easygui\n",
      "Successfully installed easygui-0.98.3\n"
     ]
    }
   ],
   "source": [
    "!pip install PyPDF2\n",
    "!pip install easygui"
   ]
  },
  {
   "cell_type": "code",
   "execution_count": 3,
   "id": "8da51fbb",
   "metadata": {
    "scrolled": true
   },
   "outputs": [],
   "source": [
    "import pyttsx3\n",
    "import os\n",
    "import time\n",
    "from PyPDF2 import PdfReader\n",
    "import easygui\n",
    "\n",
    "engine = pyttsx3.init()\n",
    "engine.setProperty(\"voice\", \"brazil\")\n",
    "# Escolher uma Opção\n",
    "#frase = input(\"Digite\")\n",
    "# Arquivo\n",
    "arquivo = open(\"frase.txt\", \"r\", encoding=\"utf-8\")\n",
    "conteudo = arquivo.read()\n",
    "#print(conteudo)\n",
    "engine.say(conteudo)\n",
    "engine.runAndWait()\n",
    "arquivo.close()\n"
   ]
  },
  {
   "cell_type": "code",
   "execution_count": null,
   "id": "8cfb3a85",
   "metadata": {},
   "outputs": [],
   "source": []
  }
 ],
 "metadata": {
  "kernelspec": {
   "display_name": "Python 3 (ipykernel)",
   "language": "python",
   "name": "python3"
  },
  "language_info": {
   "codemirror_mode": {
    "name": "ipython",
    "version": 3
   },
   "file_extension": ".py",
   "mimetype": "text/x-python",
   "name": "python",
   "nbconvert_exporter": "python",
   "pygments_lexer": "ipython3",
   "version": "3.9.13"
  }
 },
 "nbformat": 4,
 "nbformat_minor": 5
}
