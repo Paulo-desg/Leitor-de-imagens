{
 "cells": [
  {
   "cell_type": "code",
   "execution_count": null,
   "id": "f94e04e6",
   "metadata": {},
   "outputs": [],
   "source": [
    "#!pip install SpeechRecognition\n",
    "#!pipwin install PyAudio\n",
    "#!pip install pyaudio"
   ]
  },
  {
   "cell_type": "code",
   "execution_count": 1,
   "id": "0fecd68e",
   "metadata": {},
   "outputs": [],
   "source": [
    "import speech_recognition as sr\n",
    "import pyaudio"
   ]
  },
  {
   "cell_type": "code",
   "execution_count": 2,
   "id": "f2107849",
   "metadata": {},
   "outputs": [],
   "source": [
    "rec = sr.Recognizer()"
   ]
  },
  {
   "cell_type": "code",
   "execution_count": 6,
   "id": "2cdaf452",
   "metadata": {},
   "outputs": [
    {
     "name": "stdout",
     "output_type": "stream",
     "text": [
      "Pode falar que eu vou gravar\n",
      "Quer ver Vou testar meu computador para você ver um dois três quatro cinco seis sete oito nove 10 11 12 13 14 15 16 está muito ruim\n"
     ]
    }
   ],
   "source": [
    "rec = sr.Recognizer()\n",
    "#print(sr.Microphone().list_microphone_names())\n",
    "with sr.Microphone() as mic:\n",
    "    #Eliminar Ruidos\n",
    "    rec.adjust_for_ambient_noise(mic)\n",
    "    print(\"Pode falar que eu vou gravar\")\n",
    "    #Escutando\n",
    "    audio = rec.listen(mic)\n",
    "    texto = rec.recognize_google(audio, language=\"pt-BR\")\n",
    "    print(texto)"
   ]
  },
  {
   "cell_type": "code",
   "execution_count": null,
   "id": "25e6eec8",
   "metadata": {},
   "outputs": [],
   "source": []
  },
  {
   "cell_type": "code",
   "execution_count": null,
   "id": "f3de389e",
   "metadata": {},
   "outputs": [],
   "source": []
  }
 ],
 "metadata": {
  "kernelspec": {
   "display_name": "Python 3 (ipykernel)",
   "language": "python",
   "name": "python3"
  },
  "language_info": {
   "codemirror_mode": {
    "name": "ipython",
    "version": 3
   },
   "file_extension": ".py",
   "mimetype": "text/x-python",
   "name": "python",
   "nbconvert_exporter": "python",
   "pygments_lexer": "ipython3",
   "version": "3.9.16"
  }
 },
 "nbformat": 4,
 "nbformat_minor": 5
}
