{
 "cells": [
  {
   "cell_type": "code",
   "execution_count": null,
   "id": "5442f24a",
   "metadata": {},
   "outputs": [],
   "source": [
    "#!pip install opencv-python"
   ]
  },
  {
   "cell_type": "code",
   "execution_count": 9,
   "id": "e1941797",
   "metadata": {},
   "outputs": [],
   "source": [
    "import cv2"
   ]
  },
  {
   "cell_type": "code",
   "execution_count": 24,
   "id": "1a5e4fce",
   "metadata": {},
   "outputs": [],
   "source": [
    "webCamera = cv2.VideoCapture(2)\n",
    "imagens= cv2.CascadeClassifier('haarcascade_frontalface_default.xml')\n",
    "olhos= cv2.CascadeClassifier('haarcascade_eye.xml')"
   ]
  },
  {
   "cell_type": "code",
   "execution_count": 25,
   "id": "9cffe65d",
   "metadata": {},
   "outputs": [],
   "source": [
    "while True:\n",
    "    ret, frame = webCamera.read()\n",
    "    \n",
    "    cinza = cv2.cvtColor(frame, cv2.COLOR_BGR2GRAY)\n",
    "\n",
    "    detecta = imagens.detectMultiScale(cinza)\n",
    "    \n",
    "    #for(x, y, l, a) in detecta:\n",
    "     for(x, y, l, a) in localizaOlho:\n",
    "    \n",
    "        #cv2.rectangle(frame, (x, y), (x + l, y + a),(255, 255, 0), 2)\n",
    "        cv2.rectangle(pegaOlho, (x, y), (x + l, y + a),(255, 255, 0), 2)\n",
    "        \n",
    "    cv2.imshow('video', frame)\n",
    "    if cv2.waitKey(1) & 0xFF == ord('q'):\n",
    "        break\n",
    "webCamera.release()\n",
    "cv2.destroyAllWindows()"
   ]
  },
  {
   "cell_type": "code",
   "execution_count": null,
   "id": "d0a98b58",
   "metadata": {},
   "outputs": [],
   "source": []
  }
 ],
 "metadata": {
  "kernelspec": {
   "display_name": "Python 3 (ipykernel)",
   "language": "python",
   "name": "python3"
  },
  "language_info": {
   "codemirror_mode": {
    "name": "ipython",
    "version": 3
   },
   "file_extension": ".py",
   "mimetype": "text/x-python",
   "name": "python",
   "nbconvert_exporter": "python",
   "pygments_lexer": "ipython3",
   "version": "3.9.16"
  }
 },
 "nbformat": 4,
 "nbformat_minor": 5
}
