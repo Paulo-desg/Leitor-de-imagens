{
 "cells": [
  {
   "cell_type": "code",
   "execution_count": 4,
   "id": "6204b5ea",
   "metadata": {},
   "outputs": [
    {
     "name": "stdout",
     "output_type": "stream",
     "text": [
      "Requirement already satisfied: easygui in c:\\users\\laboratorio\\anaconda3\\envs\\paulo\\lib\\site-packages (0.98.3)\n"
     ]
    }
   ],
   "source": [
    "#!pip install PyPDF2\n",
    "!pip install easygui"
   ]
  },
  {
   "cell_type": "code",
   "execution_count": 8,
   "id": "a6e62f01",
   "metadata": {},
   "outputs": [],
   "source": [
    "import pyttsx3\n",
    "from PyPDF2 import PdfReader\n",
    "import easygui"
   ]
  },
  {
   "cell_type": "code",
   "execution_count": 9,
   "id": "684dced8",
   "metadata": {},
   "outputs": [],
   "source": [
    "reader = PdfReader(\"teste.pdf\")\n",
    "#print(reader)\n",
    "number_of_pages = len(reader.pages)"
   ]
  },
  {
   "cell_type": "code",
   "execution_count": 10,
   "id": "6480ea56",
   "metadata": {},
   "outputs": [
    {
     "name": "stdout",
     "output_type": "stream",
     "text": [
      "4\n"
     ]
    }
   ],
   "source": [
    "print(number_of_pages)"
   ]
  },
  {
   "cell_type": "code",
   "execution_count": 14,
   "id": "f97226d2",
   "metadata": {},
   "outputs": [],
   "source": [
    "page = reader.pages[1]"
   ]
  },
  {
   "cell_type": "code",
   "execution_count": 15,
   "id": "f4a436d8",
   "metadata": {},
   "outputs": [],
   "source": [
    "text = page.extract_text()"
   ]
  },
  {
   "cell_type": "code",
   "execution_count": 16,
   "id": "b848f7fd",
   "metadata": {},
   "outputs": [
    {
     "name": "stdout",
     "output_type": "stream",
     "text": [
      "seja bem vindo\n"
     ]
    }
   ],
   "source": [
    "print(text)"
   ]
  },
  {
   "cell_type": "code",
   "execution_count": null,
   "id": "0a6dfef4",
   "metadata": {},
   "outputs": [],
   "source": []
  }
 ],
 "metadata": {
  "kernelspec": {
   "display_name": "Python 3 (ipykernel)",
   "language": "python",
   "name": "python3"
  },
  "language_info": {
   "codemirror_mode": {
    "name": "ipython",
    "version": 3
   },
   "file_extension": ".py",
   "mimetype": "text/x-python",
   "name": "python",
   "nbconvert_exporter": "python",
   "pygments_lexer": "ipython3",
   "version": "3.9.16"
  }
 },
 "nbformat": 4,
 "nbformat_minor": 5
}
