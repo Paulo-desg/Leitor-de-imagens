{
 "cells": [
  {
   "cell_type": "code",
   "execution_count": 7,
   "id": "296a8f2f",
   "metadata": {},
   "outputs": [
    {
     "name": "stdout",
     "output_type": "stream",
     "text": [
      "Collecting easygui\n",
      "  Downloading easygui-0.98.3-py2.py3-none-any.whl (92 kB)\n",
      "     ---------------------------------------- 0.0/92.7 kB ? eta -:--:--\n",
      "     ------------- -------------------------- 30.7/92.7 kB ? eta -:--:--\n",
      "     ---------------------------------------- 92.7/92.7 kB 1.1 MB/s eta 0:00:00\n",
      "Installing collected packages: easygui\n",
      "Successfully installed easygui-0.98.3\n"
     ]
    }
   ],
   "source": [
    "#!pip install PyPDF2\n",
    "!pip install easygui"
   ]
  },
  {
   "cell_type": "code",
   "execution_count": 5,
   "id": "8da51fbb",
   "metadata": {
    "scrolled": true
   },
   "outputs": [
    {
     "name": "stdout",
     "output_type": "stream",
     "text": [
      "Digitegg\n"
     ]
    }
   ],
   "source": [
    "import pyttsx3\n",
    "import os\n",
    "import time\n",
    "from PyPDF2 import PdfReader\n",
    "import easygui\n",
    "\n",
    "engine = pyttsx3.init()\n",
    "engine.setProperty(\"voice\", \"brazil\")\n",
    "# Escolher uma Opção\n",
    "#frase = input(\"Digite\")\n",
    "# Arquivo\n",
    "arquivo = open(\"frase.txt\", \"r\", encoding=\"utf-8\")\n",
    "conteudo = arquivo.read()\n",
    "#print(conteudo)\n",
    "engine.say(conteudo)\n",
    "engine.runAndWait()\n",
    "arquivo.close()\n"
   ]
  },
  {
   "cell_type": "code",
   "execution_count": null,
   "id": "8cfb3a85",
   "metadata": {},
   "outputs": [],
   "source": []
  }
 ],
 "metadata": {
  "kernelspec": {
   "display_name": "Python 3 (ipykernel)",
   "language": "python",
   "name": "python3"
  },
  "language_info": {
   "codemirror_mode": {
    "name": "ipython",
    "version": 3
   },
   "file_extension": ".py",
   "mimetype": "text/x-python",
   "name": "python",
   "nbconvert_exporter": "python",
   "pygments_lexer": "ipython3",
   "version": "3.9.16"
  }
 },
 "nbformat": 4,
 "nbformat_minor": 5
}
