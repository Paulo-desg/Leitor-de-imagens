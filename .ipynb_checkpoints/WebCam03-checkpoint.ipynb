{
 "cells": [
  {
   "cell_type": "code",
   "execution_count": null,
   "id": "2e532940",
   "metadata": {
    "id": "2e532940"
   },
   "outputs": [],
   "source": [
    "#COMO ANALISAR IMAGENS USANDO PYTHON E OPENCV - PYCHARM PARTE 1: https://www.youtube.com/watch?v=F7uw3oPC1wQ\n",
    "#COMO ANALISAR IMAGENS USANDO PYTHON E OPENCV - PYCHARM PARTE 2: https://www.youtube.com/watch?v=ifSeGYKVt6M\n"
   ]
  },
  {
   "cell_type": "code",
   "execution_count": 1,
   "id": "8a7682a2",
   "metadata": {
    "id": "8a7682a2",
    "outputId": "02a95d42-73d8-4c84-93b3-fb87033101ee"
   },
   "outputs": [
    {
     "name": "stdout",
     "output_type": "stream",
     "text": [
      "C:/Users/js058/Downloads/PfSense/Sergipetec/Projetos/_PROJETOS_WebCam/OpenCV-WebCam/Haarcascade/\n"
     ]
    }
   ],
   "source": [
    "#!pip install opencv-python\n",
    "import cv2\n",
    "\n",
    "# Criar um Atalho(path)\n",
    "new_path = 'C:/Users/js058/Downloads/PfSense/Sergipetec/Projetos/_PROJETOS_WebCam/OpenCV-WebCam/Haarcascade/'\n",
    "print(new_path)"
   ]
  },
  {
   "cell_type": "code",
   "execution_count": null,
   "id": "aa63e459",
   "metadata": {
    "id": "aa63e459"
   },
   "outputs": [],
   "source": [
    "# Capturar Camera(0 ou 1) 0=Default p/ camera do Notebook \n",
    "# 1=Default p/ camera Externa \n",
    "webCamera = cv2.VideoCapture(1)\n",
    "imagens= cv2.CascadeClassifier('haarcascade_frontalface_default.xml')\n",
    "olhos= cv2.CascadeClassifier('haarcascade_eye.xml')\n",
    "\n",
    "while True:\n",
    "    camera, frame = webCamera.read()\n",
    "\n",
    "    cinza = cv2.cvtColor(frame, cv2.COLOR_BGR2GRAY)\n",
    "    detecta = imagens.detectMultiScale(cinza)\n",
    "    for(x, y, l, a) in detecta:\n",
    "        cv2.rectangle(frame, (x, y), (x + l, y + a), (255, 0, 0), 2)\n",
    "        pegaOlho = frame[y:y + a, x:x + l]\n",
    "        OlhoCinza = cv2.cvtColor(pegaOlho, cv2.COLOR_BGR2GRAY)\n",
    "        localizaOlho = olhos.detectMultiScale(OlhoCinza)\n",
    "        for (ox, oy, ol, oa) in localizaOlho:\n",
    "            cv2.rectangle(pegaOlho, (ox, oy), (ox + ol, oy + oa), (0, 255, 0), 2)\n",
    "\n",
    "    cv2.imshow(\"Video WebCamera\", frame)\n",
    "\n",
    "    if cv2.waitKey(1) == ord('q'):\n",
    "        break\n",
    "\n",
    "webCamera.release()\n",
    "cv2.destroyAllWindows()\n",
    "\n"
   ]
  },
  {
   "cell_type": "code",
   "execution_count": null,
   "id": "aae85fd2",
   "metadata": {
    "id": "aae85fd2"
   },
   "outputs": [],
   "source": []
  }
 ],
 "metadata": {
  "colab": {
   "provenance": []
  },
  "kernelspec": {
   "display_name": "Python 3 (ipykernel)",
   "language": "python",
   "name": "python3"
  },
  "language_info": {
   "codemirror_mode": {
    "name": "ipython",
    "version": 3
   },
   "file_extension": ".py",
   "mimetype": "text/x-python",
   "name": "python",
   "nbconvert_exporter": "python",
   "pygments_lexer": "ipython3",
   "version": "3.9.16"
  }
 },
 "nbformat": 4,
 "nbformat_minor": 5
}
