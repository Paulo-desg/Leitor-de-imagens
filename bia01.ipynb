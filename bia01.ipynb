{
 "cells": [
  {
   "cell_type": "code",
   "execution_count": null,
   "id": "6f9521bb",
   "metadata": {},
   "outputs": [],
   "source": [
    "#!pip install SpeechRecognition\n",
    "#!pipwin install PyAudio\n",
    "#!pip install pyaudio"
   ]
  },
  {
   "cell_type": "code",
   "execution_count": 1,
   "id": "54452356",
   "metadata": {},
   "outputs": [],
   "source": [
    "import speech_recognition as sr\n",
    "import pyaudio"
   ]
  },
  {
   "cell_type": "code",
   "execution_count": 2,
   "id": "0830c704",
   "metadata": {},
   "outputs": [],
   "source": [
    "rec = sr.Recognizer()"
   ]
  },
  {
   "cell_type": "code",
   "execution_count": 7,
   "id": "af90dc65",
   "metadata": {},
   "outputs": [
    {
     "name": "stdout",
     "output_type": "stream",
     "text": [
      "Pode falar que eu vou gravar\n",
      "toda a ligação com o mundo se resume na corda umbilical do correio magro estafeta lufardo em potigudas e éguas pisadas em entorno irei vir com duas malas postais\n"
     ]
    }
   ],
   "source": [
    "rec = sr.Recognizer()\n",
    "#print(sr.Microphone().list_microphone_names())\n",
    "with sr.Microphone() as mic:\n",
    "    #Eliminar Ruidos\n",
    "    rec.adjust_for_ambient_noise(mic)\n",
    "    print(\"Pode falar que eu vou gravar\")\n",
    "    #Escutando\n",
    "    audio = rec.listen(mic)\n",
    "    texto = rec.recognize_google(audio, language=\"pt-BR\")\n",
    "    print(texto)"
   ]
  },
  {
   "cell_type": "code",
   "execution_count": null,
   "id": "e55d70f6",
   "metadata": {},
   "outputs": [],
   "source": []
  },
  {
   "cell_type": "code",
   "execution_count": null,
   "id": "3a9f5b68",
   "metadata": {},
   "outputs": [],
   "source": []
  }
 ],
 "metadata": {
  "kernelspec": {
   "display_name": "Python 3 (ipykernel)",
   "language": "python",
   "name": "python3"
  },
  "language_info": {
   "codemirror_mode": {
    "name": "ipython",
    "version": 3
   },
   "file_extension": ".py",
   "mimetype": "text/x-python",
   "name": "python",
   "nbconvert_exporter": "python",
   "pygments_lexer": "ipython3",
   "version": "3.9.13"
  }
 },
 "nbformat": 4,
 "nbformat_minor": 5
}
