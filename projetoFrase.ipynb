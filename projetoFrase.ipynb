{
 "cells": [
  {
   "cell_type": "code",
   "execution_count": null,
   "id": "2c97a20b",
   "metadata": {},
   "outputs": [],
   "source": [
    "#!pip install pyttsx3\n",
    "\n",
    "import pyttsx3\n",
    "import os\n",
    "import time\n",
    "engine = pyttsx3.init()\n",
    "engine.setProperty(\"voice\", \"brazil\")\n",
    "# Arquivo\n",
    "arquivo = open(\"frase.txt\", \"r\", encoding=\"utf-8\")\n",
    "conteudo = arquivo.read()\n",
    "print(conteudo)\n",
    "engine.say(conteudo)\n",
    "engine.runAndWait()\n",
    "arquivo.close()"
   ]
  },
  {
   "cell_type": "code",
   "execution_count": null,
   "id": "aaeed7e3",
   "metadata": {},
   "outputs": [],
   "source": [
    "# Instalar o Arquivo .EXE\n",
    "#!pip install pyinstaller"
   ]
  },
  {
   "cell_type": "code",
   "execution_count": null,
   "id": "9adc3939",
   "metadata": {},
   "outputs": [],
   "source": [
    "# Criar o Arquivo Executavel via Linha de Comando \n",
    "#pyinstaller --onefile -w vozTexto.py"
   ]
  }
 ],
 "metadata": {
  "kernelspec": {
   "display_name": "Python 3 (ipykernel)",
   "language": "python",
   "name": "python3"
  },
  "language_info": {
   "codemirror_mode": {
    "name": "ipython",
    "version": 3
   },
   "file_extension": ".py",
   "mimetype": "text/x-python",
   "name": "python",
   "nbconvert_exporter": "python",
   "pygments_lexer": "ipython3",
   "version": "3.9.16"
  }
 },
 "nbformat": 4,
 "nbformat_minor": 5
}
